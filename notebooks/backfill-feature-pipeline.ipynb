{
 "cells": [
  {
   "cell_type": "code",
   "execution_count": 67,
   "id": "f22dfa29",
   "metadata": {},
   "outputs": [
    {
     "name": "stdout",
     "output_type": "stream",
     "text": [
      "Connection closed.\n",
      "Connected. Call `.close()` to terminate connection gracefully.\n",
      "\n",
      "Logged in to project, explore it here https://snurran.hops.works/p/16503\n",
      "Connected. Call `.close()` to terminate connection gracefully.\n"
     ]
    }
   ],
   "source": [
    "import hopsworks\n",
    "import pandas as pd\n",
    "\n",
    "project = hopsworks.login()\n",
    "fs = project.get_feature_store()"
   ]
  },
  {
   "cell_type": "code",
   "execution_count": 70,
   "id": "5b2f8898",
   "metadata": {},
   "outputs": [],
   "source": [
    "df = pd.read_csv(\"../data/Mensa_occupancy_history.csv\", sep=\";\")\n",
    "df['city']=\"Heilbronn\"\n",
    "df['building']=\"Mensa Gebäude U8\""
   ]
  },
  {
   "cell_type": "code",
   "execution_count": 71,
   "id": "0adbf0de",
   "metadata": {},
   "outputs": [
    {
     "data": {
      "text/html": [
       "<div>\n",
       "<style scoped>\n",
       "    .dataframe tbody tr th:only-of-type {\n",
       "        vertical-align: middle;\n",
       "    }\n",
       "\n",
       "    .dataframe tbody tr th {\n",
       "        vertical-align: top;\n",
       "    }\n",
       "\n",
       "    .dataframe thead th {\n",
       "        text-align: right;\n",
       "    }\n",
       "</style>\n",
       "<table border=\"1\" class=\"dataframe\">\n",
       "  <thead>\n",
       "    <tr style=\"text-align: right;\">\n",
       "      <th></th>\n",
       "      <th>ts</th>\n",
       "      <th>y</th>\n",
       "      <th>capacity</th>\n",
       "      <th>city</th>\n",
       "      <th>building</th>\n",
       "      <th>ds</th>\n",
       "    </tr>\n",
       "  </thead>\n",
       "  <tbody>\n",
       "    <tr>\n",
       "      <th>0</th>\n",
       "      <td>25.06.24 12:01</td>\n",
       "      <td>198.0</td>\n",
       "      <td>NaN</td>\n",
       "      <td>Heilbronn</td>\n",
       "      <td>Mensa Gebäude U8</td>\n",
       "      <td>2024-06-25 12:01:00</td>\n",
       "    </tr>\n",
       "    <tr>\n",
       "      <th>1</th>\n",
       "      <td>25.06.24 12:02</td>\n",
       "      <td>214.0</td>\n",
       "      <td>NaN</td>\n",
       "      <td>Heilbronn</td>\n",
       "      <td>Mensa Gebäude U8</td>\n",
       "      <td>2024-06-25 12:02:00</td>\n",
       "    </tr>\n",
       "    <tr>\n",
       "      <th>2</th>\n",
       "      <td>25.06.24 12:03</td>\n",
       "      <td>249.0</td>\n",
       "      <td>NaN</td>\n",
       "      <td>Heilbronn</td>\n",
       "      <td>Mensa Gebäude U8</td>\n",
       "      <td>2024-06-25 12:03:00</td>\n",
       "    </tr>\n",
       "    <tr>\n",
       "      <th>3</th>\n",
       "      <td>25.06.24 12:04</td>\n",
       "      <td>279.0</td>\n",
       "      <td>NaN</td>\n",
       "      <td>Heilbronn</td>\n",
       "      <td>Mensa Gebäude U8</td>\n",
       "      <td>2024-06-25 12:04:00</td>\n",
       "    </tr>\n",
       "    <tr>\n",
       "      <th>4</th>\n",
       "      <td>25.06.24 12:05</td>\n",
       "      <td>287.0</td>\n",
       "      <td>NaN</td>\n",
       "      <td>Heilbronn</td>\n",
       "      <td>Mensa Gebäude U8</td>\n",
       "      <td>2024-06-25 12:05:00</td>\n",
       "    </tr>\n",
       "    <tr>\n",
       "      <th>...</th>\n",
       "      <td>...</td>\n",
       "      <td>...</td>\n",
       "      <td>...</td>\n",
       "      <td>...</td>\n",
       "      <td>...</td>\n",
       "      <td>...</td>\n",
       "    </tr>\n",
       "    <tr>\n",
       "      <th>50019</th>\n",
       "      <td>13.08.24 13:18</td>\n",
       "      <td>54.0</td>\n",
       "      <td>500.0</td>\n",
       "      <td>Heilbronn</td>\n",
       "      <td>Mensa Gebäude U8</td>\n",
       "      <td>2024-08-13 13:18:00</td>\n",
       "    </tr>\n",
       "    <tr>\n",
       "      <th>50020</th>\n",
       "      <td>13.08.24 13:19</td>\n",
       "      <td>54.0</td>\n",
       "      <td>500.0</td>\n",
       "      <td>Heilbronn</td>\n",
       "      <td>Mensa Gebäude U8</td>\n",
       "      <td>2024-08-13 13:19:00</td>\n",
       "    </tr>\n",
       "    <tr>\n",
       "      <th>50021</th>\n",
       "      <td>13.08.24 13:20</td>\n",
       "      <td>53.0</td>\n",
       "      <td>500.0</td>\n",
       "      <td>Heilbronn</td>\n",
       "      <td>Mensa Gebäude U8</td>\n",
       "      <td>2024-08-13 13:20:00</td>\n",
       "    </tr>\n",
       "    <tr>\n",
       "      <th>50022</th>\n",
       "      <td>13.08.24 13:21</td>\n",
       "      <td>47.0</td>\n",
       "      <td>500.0</td>\n",
       "      <td>Heilbronn</td>\n",
       "      <td>Mensa Gebäude U8</td>\n",
       "      <td>2024-08-13 13:21:00</td>\n",
       "    </tr>\n",
       "    <tr>\n",
       "      <th>50023</th>\n",
       "      <td>13.08.24 13:22</td>\n",
       "      <td>53.0</td>\n",
       "      <td>500.0</td>\n",
       "      <td>Heilbronn</td>\n",
       "      <td>Mensa Gebäude U8</td>\n",
       "      <td>2024-08-13 13:22:00</td>\n",
       "    </tr>\n",
       "  </tbody>\n",
       "</table>\n",
       "<p>50024 rows × 6 columns</p>\n",
       "</div>"
      ],
      "text/plain": [
       "                   ts      y  capacity       city          building  \\\n",
       "0      25.06.24 12:01  198.0       NaN  Heilbronn  Mensa Gebäude U8   \n",
       "1      25.06.24 12:02  214.0       NaN  Heilbronn  Mensa Gebäude U8   \n",
       "2      25.06.24 12:03  249.0       NaN  Heilbronn  Mensa Gebäude U8   \n",
       "3      25.06.24 12:04  279.0       NaN  Heilbronn  Mensa Gebäude U8   \n",
       "4      25.06.24 12:05  287.0       NaN  Heilbronn  Mensa Gebäude U8   \n",
       "...               ...    ...       ...        ...               ...   \n",
       "50019  13.08.24 13:18   54.0     500.0  Heilbronn  Mensa Gebäude U8   \n",
       "50020  13.08.24 13:19   54.0     500.0  Heilbronn  Mensa Gebäude U8   \n",
       "50021  13.08.24 13:20   53.0     500.0  Heilbronn  Mensa Gebäude U8   \n",
       "50022  13.08.24 13:21   47.0     500.0  Heilbronn  Mensa Gebäude U8   \n",
       "50023  13.08.24 13:22   53.0     500.0  Heilbronn  Mensa Gebäude U8   \n",
       "\n",
       "                       ds  \n",
       "0     2024-06-25 12:01:00  \n",
       "1     2024-06-25 12:02:00  \n",
       "2     2024-06-25 12:03:00  \n",
       "3     2024-06-25 12:04:00  \n",
       "4     2024-06-25 12:05:00  \n",
       "...                   ...  \n",
       "50019 2024-08-13 13:18:00  \n",
       "50020 2024-08-13 13:19:00  \n",
       "50021 2024-08-13 13:20:00  \n",
       "50022 2024-08-13 13:21:00  \n",
       "50023 2024-08-13 13:22:00  \n",
       "\n",
       "[50024 rows x 6 columns]"
      ]
     },
     "execution_count": 71,
     "metadata": {},
     "output_type": "execute_result"
    }
   ],
   "source": [
    "df = df.rename(columns={'Kapazität': 'capacity', 'Timestamp' : 'ts', 'Auslastung' : 'y'})\n",
    "df['ds'] = pd.to_datetime(df['ts'], format='%d.%m.%y %H:%M')\n",
    "df"
   ]
  },
  {
   "cell_type": "code",
   "execution_count": 72,
   "id": "928fb300",
   "metadata": {},
   "outputs": [
    {
     "name": "stdout",
     "output_type": "stream",
     "text": [
      "Feature Group created successfully, explore it at \n",
      "https://snurran.hops.works/p/16503/fs/16451/fg/17442\n"
     ]
    },
    {
     "data": {
      "application/vnd.jupyter.widget-view+json": {
       "model_id": "5b6733f7e9ae4ea197491f3a66a5f511",
       "version_major": 2,
       "version_minor": 0
      },
      "text/plain": [
       "Uploading Dataframe: 0.00% |          | Rows 0/50024 | Elapsed Time: 00:00 | Remaining Time: ?"
      ]
     },
     "metadata": {},
     "output_type": "display_data"
    },
    {
     "name": "stdout",
     "output_type": "stream",
     "text": [
      "Launching job: mensa_1_offline_fg_materialization\n",
      "Job started successfully, you can follow the progress at \n",
      "https://snurran.hops.works/p/16503/jobs/named/mensa_1_offline_fg_materialization/executions\n"
     ]
    },
    {
     "data": {
      "text/plain": [
       "(<hsfs.core.job.Job at 0x7faebafaf160>, None)"
      ]
     },
     "execution_count": 72,
     "metadata": {},
     "output_type": "execute_result"
    }
   ],
   "source": [
    "fg = fs.get_or_create_feature_group(name=\"mensa\", \n",
    "                                    version=1, \n",
    "                                    description=\"Time-series capacity load measurements for a Mensa restaurant\",\n",
    "                                    primary_key=[\"city\", \"building\", \"ts\"], \n",
    "                                    event_time=\"ds\",\n",
    "                                    online_enabled=True\n",
    "                                   )\n",
    "fg.insert(df)"
   ]
  },
  {
   "cell_type": "code",
   "execution_count": 73,
   "id": "6d27119c",
   "metadata": {},
   "outputs": [
    {
     "name": "stdout",
     "output_type": "stream",
     "text": [
      "<class 'pandas.core.frame.DataFrame'>\n",
      "RangeIndex: 50000 entries, 0 to 49999\n",
      "Data columns (total 4 columns):\n",
      " #   Column              Non-Null Count  Dtype         \n",
      "---  ------              --------------  -----         \n",
      " 0   Timestamp           50000 non-null  object        \n",
      " 1   outdoortemperature  50000 non-null  float64       \n",
      " 2   city                50000 non-null  object        \n",
      " 3   ts                  50000 non-null  datetime64[ns]\n",
      "dtypes: datetime64[ns](1), float64(1), object(2)\n",
      "memory usage: 1.5+ MB\n"
     ]
    }
   ],
   "source": [
    "df2= pd.read_csv(\"../data/Temprature_Heilbronn_history.csv\", sep=\";\")\n",
    "df2['city']=\"Heilbronn\"\n",
    "df2['ts'] = pd.to_datetime(df2['Timestamp'], format='%Y-%m-%d %H:%M:%S')\n",
    "df2.info()"
   ]
  },
  {
   "cell_type": "code",
   "execution_count": 74,
   "id": "9911c8a1",
   "metadata": {},
   "outputs": [
    {
     "data": {
      "text/html": [
       "<div>\n",
       "<style scoped>\n",
       "    .dataframe tbody tr th:only-of-type {\n",
       "        vertical-align: middle;\n",
       "    }\n",
       "\n",
       "    .dataframe tbody tr th {\n",
       "        vertical-align: top;\n",
       "    }\n",
       "\n",
       "    .dataframe thead th {\n",
       "        text-align: right;\n",
       "    }\n",
       "</style>\n",
       "<table border=\"1\" class=\"dataframe\">\n",
       "  <thead>\n",
       "    <tr style=\"text-align: right;\">\n",
       "      <th></th>\n",
       "      <th>Timestamp</th>\n",
       "      <th>outdoortemperature</th>\n",
       "      <th>city</th>\n",
       "      <th>ts</th>\n",
       "    </tr>\n",
       "  </thead>\n",
       "  <tbody>\n",
       "    <tr>\n",
       "      <th>0</th>\n",
       "      <td>2024-07-09 20:47:31</td>\n",
       "      <td>31.400000</td>\n",
       "      <td>Heilbronn</td>\n",
       "      <td>2024-07-09 20:47:31</td>\n",
       "    </tr>\n",
       "    <tr>\n",
       "      <th>1</th>\n",
       "      <td>2024-07-09 20:48:31</td>\n",
       "      <td>31.400000</td>\n",
       "      <td>Heilbronn</td>\n",
       "      <td>2024-07-09 20:48:31</td>\n",
       "    </tr>\n",
       "    <tr>\n",
       "      <th>2</th>\n",
       "      <td>2024-07-09 20:49:31</td>\n",
       "      <td>31.299999</td>\n",
       "      <td>Heilbronn</td>\n",
       "      <td>2024-07-09 20:49:31</td>\n",
       "    </tr>\n",
       "    <tr>\n",
       "      <th>3</th>\n",
       "      <td>2024-07-09 20:50:31</td>\n",
       "      <td>31.299999</td>\n",
       "      <td>Heilbronn</td>\n",
       "      <td>2024-07-09 20:50:31</td>\n",
       "    </tr>\n",
       "    <tr>\n",
       "      <th>4</th>\n",
       "      <td>2024-07-09 20:51:31</td>\n",
       "      <td>31.299999</td>\n",
       "      <td>Heilbronn</td>\n",
       "      <td>2024-07-09 20:51:31</td>\n",
       "    </tr>\n",
       "    <tr>\n",
       "      <th>...</th>\n",
       "      <td>...</td>\n",
       "      <td>...</td>\n",
       "      <td>...</td>\n",
       "      <td>...</td>\n",
       "    </tr>\n",
       "    <tr>\n",
       "      <th>49995</th>\n",
       "      <td>2024-08-13 13:38:26</td>\n",
       "      <td>38.200001</td>\n",
       "      <td>Heilbronn</td>\n",
       "      <td>2024-08-13 13:38:26</td>\n",
       "    </tr>\n",
       "    <tr>\n",
       "      <th>49996</th>\n",
       "      <td>2024-08-13 13:39:26</td>\n",
       "      <td>38.200001</td>\n",
       "      <td>Heilbronn</td>\n",
       "      <td>2024-08-13 13:39:26</td>\n",
       "    </tr>\n",
       "    <tr>\n",
       "      <th>49997</th>\n",
       "      <td>2024-08-13 13:40:26</td>\n",
       "      <td>38.200001</td>\n",
       "      <td>Heilbronn</td>\n",
       "      <td>2024-08-13 13:40:26</td>\n",
       "    </tr>\n",
       "    <tr>\n",
       "      <th>49998</th>\n",
       "      <td>2024-08-13 13:41:26</td>\n",
       "      <td>38.400002</td>\n",
       "      <td>Heilbronn</td>\n",
       "      <td>2024-08-13 13:41:26</td>\n",
       "    </tr>\n",
       "    <tr>\n",
       "      <th>49999</th>\n",
       "      <td>2024-08-13 13:42:26</td>\n",
       "      <td>38.599998</td>\n",
       "      <td>Heilbronn</td>\n",
       "      <td>2024-08-13 13:42:26</td>\n",
       "    </tr>\n",
       "  </tbody>\n",
       "</table>\n",
       "<p>50000 rows × 4 columns</p>\n",
       "</div>"
      ],
      "text/plain": [
       "                 Timestamp  outdoortemperature       city                  ts\n",
       "0      2024-07-09 20:47:31           31.400000  Heilbronn 2024-07-09 20:47:31\n",
       "1      2024-07-09 20:48:31           31.400000  Heilbronn 2024-07-09 20:48:31\n",
       "2      2024-07-09 20:49:31           31.299999  Heilbronn 2024-07-09 20:49:31\n",
       "3      2024-07-09 20:50:31           31.299999  Heilbronn 2024-07-09 20:50:31\n",
       "4      2024-07-09 20:51:31           31.299999  Heilbronn 2024-07-09 20:51:31\n",
       "...                    ...                 ...        ...                 ...\n",
       "49995  2024-08-13 13:38:26           38.200001  Heilbronn 2024-08-13 13:38:26\n",
       "49996  2024-08-13 13:39:26           38.200001  Heilbronn 2024-08-13 13:39:26\n",
       "49997  2024-08-13 13:40:26           38.200001  Heilbronn 2024-08-13 13:40:26\n",
       "49998  2024-08-13 13:41:26           38.400002  Heilbronn 2024-08-13 13:41:26\n",
       "49999  2024-08-13 13:42:26           38.599998  Heilbronn 2024-08-13 13:42:26\n",
       "\n",
       "[50000 rows x 4 columns]"
      ]
     },
     "execution_count": 74,
     "metadata": {},
     "output_type": "execute_result"
    }
   ],
   "source": [
    "df2"
   ]
  },
  {
   "cell_type": "code",
   "execution_count": 75,
   "id": "c8419e96",
   "metadata": {},
   "outputs": [
    {
     "name": "stdout",
     "output_type": "stream",
     "text": [
      "2024-08-18 19:45:45,651 WARNING: FeatureGroupWarning: The ingested dataframe contains upper case letters in feature names: `['Timestamp']`. Feature names are sanitized to lower case in the feature store.\n",
      "\n"
     ]
    },
    {
     "data": {
      "application/vnd.jupyter.widget-view+json": {
       "model_id": "6757165d47b24b088ead7523780ca488",
       "version_major": 2,
       "version_minor": 0
      },
      "text/plain": [
       "Uploading Dataframe: 0.00% |          | Rows 0/50000 | Elapsed Time: 00:00 | Remaining Time: ?"
      ]
     },
     "metadata": {},
     "output_type": "display_data"
    },
    {
     "name": "stdout",
     "output_type": "stream",
     "text": [
      "Launching job: heilbronn_temperature_1_offline_fg_materialization\n",
      "Job started successfully, you can follow the progress at \n",
      "https://snurran.hops.works/p/16503/jobs/named/heilbronn_temperature_1_offline_fg_materialization/executions\n"
     ]
    },
    {
     "data": {
      "text/plain": [
       "(<hsfs.core.job.Job at 0x7faeb20296f0>, None)"
      ]
     },
     "execution_count": 75,
     "metadata": {},
     "output_type": "execute_result"
    }
   ],
   "source": [
    "fg = fs.get_or_create_feature_group(name=\"heilbronn_temperature\", \n",
    "                                    version=1, \n",
    "                                    description=\"Temperature readings at Heibronn\",\n",
    "                                    primary_key=[\"city\", \"timestamp\"], \n",
    "                                    event_time=\"ts\",\n",
    "                                    online_enabled=True\n",
    "                                   )\n",
    "fg.insert(df2)"
   ]
  },
  {
   "cell_type": "code",
   "execution_count": 76,
   "id": "543bd041",
   "metadata": {},
   "outputs": [
    {
     "name": "stdout",
     "output_type": "stream",
     "text": [
      "<class 'pandas.core.frame.DataFrame'>\n",
      "RangeIndex: 1815 entries, 0 to 1814\n",
      "Data columns (total 4 columns):\n",
      " #   Column     Non-Null Count  Dtype         \n",
      "---  ------     --------------  -----         \n",
      " 0   Timestamp  1815 non-null   object        \n",
      " 1   fillLevel  1815 non-null   int64         \n",
      " 2   city       1815 non-null   object        \n",
      " 3   ts         1815 non-null   datetime64[ns]\n",
      "dtypes: datetime64[ns](1), int64(1), object(2)\n",
      "memory usage: 56.8+ KB\n"
     ]
    }
   ],
   "source": [
    "df3= pd.read_csv(\"../data/waste_bin_filling_level_history.csv\", sep=\";\")\n",
    "df3['city']=\"Heilbronn\"\n",
    "df3['ts'] = pd.to_datetime(df3['Timestamp'], format='%Y-%m-%d %H:%M:%S')\n",
    "df3.info()"
   ]
  },
  {
   "cell_type": "code",
   "execution_count": 77,
   "id": "156250a0",
   "metadata": {},
   "outputs": [
    {
     "name": "stdout",
     "output_type": "stream",
     "text": [
      "2024-08-18 19:45:48,571 WARNING: FeatureGroupWarning: The ingested dataframe contains upper case letters in feature names: `['Timestamp', 'fillLevel']`. Feature names are sanitized to lower case in the feature store.\n",
      "\n"
     ]
    },
    {
     "data": {
      "application/vnd.jupyter.widget-view+json": {
       "model_id": "92f0cab32f1f46269c6e46dd18e7273f",
       "version_major": 2,
       "version_minor": 0
      },
      "text/plain": [
       "Uploading Dataframe: 0.00% |          | Rows 0/1815 | Elapsed Time: 00:00 | Remaining Time: ?"
      ]
     },
     "metadata": {},
     "output_type": "display_data"
    },
    {
     "name": "stdout",
     "output_type": "stream",
     "text": [
      "Launching job: waste_bin_filling_level_1_offline_fg_materialization\n",
      "Job started successfully, you can follow the progress at \n",
      "https://snurran.hops.works/p/16503/jobs/named/waste_bin_filling_level_1_offline_fg_materialization/executions\n"
     ]
    },
    {
     "data": {
      "text/plain": [
       "(<hsfs.core.job.Job at 0x7faf7ceb7490>, None)"
      ]
     },
     "execution_count": 77,
     "metadata": {},
     "output_type": "execute_result"
    }
   ],
   "source": [
    "fg = fs.get_or_create_feature_group(name=\"waste_bin_filling_level\", \n",
    "                                    version=1, \n",
    "                                    description=\"Waste bin filling levelat Heibronn\",\n",
    "                                    primary_key=[\"city\", \"timestamp\"], \n",
    "                                    event_time=\"ts\",\n",
    "                                   )\n",
    "fg.insert(df3)"
   ]
  },
  {
   "cell_type": "code",
   "execution_count": null,
   "id": "f2b2f8aa",
   "metadata": {},
   "outputs": [],
   "source": []
  }
 ],
 "metadata": {
  "kernelspec": {
   "display_name": "Python 3 (ipykernel)",
   "language": "python",
   "name": "python3"
  },
  "language_info": {
   "codemirror_mode": {
    "name": "ipython",
    "version": 3
   },
   "file_extension": ".py",
   "mimetype": "text/x-python",
   "name": "python",
   "nbconvert_exporter": "python",
   "pygments_lexer": "ipython3",
   "version": "3.10.0"
  }
 },
 "nbformat": 4,
 "nbformat_minor": 5
}
