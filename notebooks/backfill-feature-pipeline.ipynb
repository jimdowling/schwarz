{
 "cells": [
  {
   "cell_type": "code",
   "execution_count": 1,
   "id": "445fc746",
   "metadata": {},
   "outputs": [
    {
     "name": "stdout",
     "output_type": "stream",
     "text": [
      "Connected. Call `.close()` to terminate connection gracefully.\n",
      "\n",
      "Logged in to project, explore it here https://snurran.hops.works/p/16503\n",
      "Connected. Call `.close()` to terminate connection gracefully.\n"
     ]
    }
   ],
   "source": [
    "import hopsworks\n",
    "import pandas as pd\n",
    "\n",
    "project = hopsworks.login()\n",
    "fs = project.get_feature_store()"
   ]
  },
  {
   "cell_type": "code",
   "execution_count": 2,
   "id": "fd468b50",
   "metadata": {},
   "outputs": [
    {
     "name": "stdout",
     "output_type": "stream",
     "text": [
      "2024-08-15 13:11:01,206 WARNING: FutureWarning: The argument 'infer_datetime_format' is deprecated and will be removed in a future version. A strict version of it is now the default, see https://pandas.pydata.org/pdeps/0004-consistent-to-datetime-parsing.html. You can safely remove this argument.\n",
      "\n",
      "2024-08-15 13:11:01,245 WARNING: UserWarning: Could not infer format, so each element will be parsed individually, falling back to `dateutil`. To ensure parsing is consistent and as-expected, please specify a format.\n",
      "\n"
     ]
    }
   ],
   "source": [
    "df = pd.read_csv(\"../data/Mensa_occupancy_history.csv\", sep=\";\", parse_dates=[\"Timestamp\"], infer_datetime_format=True)\n",
    "df['id']=\"Heilbronn\""
   ]
  },
  {
   "cell_type": "code",
   "execution_count": 3,
   "id": "7f9df2e9",
   "metadata": {},
   "outputs": [
    {
     "data": {
      "text/html": [
       "<div>\n",
       "<style scoped>\n",
       "    .dataframe tbody tr th:only-of-type {\n",
       "        vertical-align: middle;\n",
       "    }\n",
       "\n",
       "    .dataframe tbody tr th {\n",
       "        vertical-align: top;\n",
       "    }\n",
       "\n",
       "    .dataframe thead th {\n",
       "        text-align: right;\n",
       "    }\n",
       "</style>\n",
       "<table border=\"1\" class=\"dataframe\">\n",
       "  <thead>\n",
       "    <tr style=\"text-align: right;\">\n",
       "      <th></th>\n",
       "      <th>ds</th>\n",
       "      <th>y</th>\n",
       "      <th>capacity</th>\n",
       "      <th>id</th>\n",
       "    </tr>\n",
       "  </thead>\n",
       "  <tbody>\n",
       "    <tr>\n",
       "      <th>0</th>\n",
       "      <td>2024-06-25 12:01:00</td>\n",
       "      <td>198.0</td>\n",
       "      <td>NaN</td>\n",
       "      <td>Heilbronn</td>\n",
       "    </tr>\n",
       "    <tr>\n",
       "      <th>1</th>\n",
       "      <td>2024-06-25 12:02:00</td>\n",
       "      <td>214.0</td>\n",
       "      <td>NaN</td>\n",
       "      <td>Heilbronn</td>\n",
       "    </tr>\n",
       "    <tr>\n",
       "      <th>2</th>\n",
       "      <td>2024-06-25 12:03:00</td>\n",
       "      <td>249.0</td>\n",
       "      <td>NaN</td>\n",
       "      <td>Heilbronn</td>\n",
       "    </tr>\n",
       "    <tr>\n",
       "      <th>3</th>\n",
       "      <td>2024-06-25 12:04:00</td>\n",
       "      <td>279.0</td>\n",
       "      <td>NaN</td>\n",
       "      <td>Heilbronn</td>\n",
       "    </tr>\n",
       "    <tr>\n",
       "      <th>4</th>\n",
       "      <td>2024-06-25 12:05:00</td>\n",
       "      <td>287.0</td>\n",
       "      <td>NaN</td>\n",
       "      <td>Heilbronn</td>\n",
       "    </tr>\n",
       "    <tr>\n",
       "      <th>...</th>\n",
       "      <td>...</td>\n",
       "      <td>...</td>\n",
       "      <td>...</td>\n",
       "      <td>...</td>\n",
       "    </tr>\n",
       "    <tr>\n",
       "      <th>50019</th>\n",
       "      <td>2024-08-13 13:18:00</td>\n",
       "      <td>54.0</td>\n",
       "      <td>500.0</td>\n",
       "      <td>Heilbronn</td>\n",
       "    </tr>\n",
       "    <tr>\n",
       "      <th>50020</th>\n",
       "      <td>2024-08-13 13:19:00</td>\n",
       "      <td>54.0</td>\n",
       "      <td>500.0</td>\n",
       "      <td>Heilbronn</td>\n",
       "    </tr>\n",
       "    <tr>\n",
       "      <th>50021</th>\n",
       "      <td>2024-08-13 13:20:00</td>\n",
       "      <td>53.0</td>\n",
       "      <td>500.0</td>\n",
       "      <td>Heilbronn</td>\n",
       "    </tr>\n",
       "    <tr>\n",
       "      <th>50022</th>\n",
       "      <td>2024-08-13 13:21:00</td>\n",
       "      <td>47.0</td>\n",
       "      <td>500.0</td>\n",
       "      <td>Heilbronn</td>\n",
       "    </tr>\n",
       "    <tr>\n",
       "      <th>50023</th>\n",
       "      <td>2024-08-13 13:22:00</td>\n",
       "      <td>53.0</td>\n",
       "      <td>500.0</td>\n",
       "      <td>Heilbronn</td>\n",
       "    </tr>\n",
       "  </tbody>\n",
       "</table>\n",
       "<p>50024 rows × 4 columns</p>\n",
       "</div>"
      ],
      "text/plain": [
       "                       ds      y  capacity         id\n",
       "0     2024-06-25 12:01:00  198.0       NaN  Heilbronn\n",
       "1     2024-06-25 12:02:00  214.0       NaN  Heilbronn\n",
       "2     2024-06-25 12:03:00  249.0       NaN  Heilbronn\n",
       "3     2024-06-25 12:04:00  279.0       NaN  Heilbronn\n",
       "4     2024-06-25 12:05:00  287.0       NaN  Heilbronn\n",
       "...                   ...    ...       ...        ...\n",
       "50019 2024-08-13 13:18:00   54.0     500.0  Heilbronn\n",
       "50020 2024-08-13 13:19:00   54.0     500.0  Heilbronn\n",
       "50021 2024-08-13 13:20:00   53.0     500.0  Heilbronn\n",
       "50022 2024-08-13 13:21:00   47.0     500.0  Heilbronn\n",
       "50023 2024-08-13 13:22:00   53.0     500.0  Heilbronn\n",
       "\n",
       "[50024 rows x 4 columns]"
      ]
     },
     "execution_count": 3,
     "metadata": {},
     "output_type": "execute_result"
    }
   ],
   "source": [
    "df = df.rename(columns={'Kapazität': 'capacity', 'Timestamp' : 'ds', 'Auslastung' : 'y'})\n",
    "df"
   ]
  },
  {
   "cell_type": "code",
   "execution_count": 4,
   "id": "9f4a9581",
   "metadata": {},
   "outputs": [
    {
     "name": "stdout",
     "output_type": "stream",
     "text": [
      "Feature Group created successfully, explore it at \n",
      "https://snurran.hops.works/p/16503/fs/16451/fg/17427\n"
     ]
    },
    {
     "data": {
      "application/vnd.jupyter.widget-view+json": {
       "model_id": "77ce9c8c2bf64d0e94e707c18067f0f6",
       "version_major": 2,
       "version_minor": 0
      },
      "text/plain": [
       "Uploading Dataframe: 0.00% |          | Rows 0/50024 | Elapsed Time: 00:00 | Remaining Time: ?"
      ]
     },
     "metadata": {},
     "output_type": "display_data"
    },
    {
     "name": "stdout",
     "output_type": "stream",
     "text": [
      "Launching job: mensa_1_offline_fg_materialization\n",
      "Job started successfully, you can follow the progress at \n",
      "https://snurran.hops.works/p/16503/jobs/named/mensa_1_offline_fg_materialization/executions\n"
     ]
    },
    {
     "data": {
      "text/plain": [
       "(<hsfs.core.job.Job at 0x7f983d485d80>, None)"
      ]
     },
     "execution_count": 4,
     "metadata": {},
     "output_type": "execute_result"
    }
   ],
   "source": [
    "fg = fs.get_or_create_feature_group(name=\"mensa\", \n",
    "                                    version=1, \n",
    "                                    description=\"Time-series capacity load measurements for a Mensa restaurant\",\n",
    "                                    primary_key=[\"id\",\"ds\"], \n",
    "                                    event_time=\"ds\",\n",
    "                                   )\n",
    "fg.insert(df)"
   ]
  },
  {
   "cell_type": "code",
   "execution_count": 5,
   "id": "b08c096c",
   "metadata": {},
   "outputs": [
    {
     "name": "stdout",
     "output_type": "stream",
     "text": [
      "2024-08-15 13:11:05,595 WARNING: FutureWarning: The argument 'infer_datetime_format' is deprecated and will be removed in a future version. A strict version of it is now the default, see https://pandas.pydata.org/pdeps/0004-consistent-to-datetime-parsing.html. You can safely remove this argument.\n",
      "\n"
     ]
    }
   ],
   "source": [
    "df2= pd.read_csv(\"../data/Temprature_Heilbronn_history.csv\", sep=\";\", parse_dates=[\"Timestamp\"], infer_datetime_format=True)\n",
    "df2['id']=\"Heilbronn\""
   ]
  },
  {
   "cell_type": "code",
   "execution_count": 6,
   "id": "c7278040",
   "metadata": {},
   "outputs": [
    {
     "name": "stdout",
     "output_type": "stream",
     "text": [
      "2024-08-15 13:11:05,651 WARNING: FeatureGroupWarning: The ingested dataframe contains upper case letters in feature names: `['Timestamp']`. Feature names are sanitized to lower case in the feature store.\n",
      "\n",
      "Feature Group created successfully, explore it at \n",
      "https://snurran.hops.works/p/16503/fs/16451/fg/17428\n"
     ]
    },
    {
     "data": {
      "application/vnd.jupyter.widget-view+json": {
       "model_id": "aca105df35854900a4226b377136bf07",
       "version_major": 2,
       "version_minor": 0
      },
      "text/plain": [
       "Uploading Dataframe: 0.00% |          | Rows 0/50000 | Elapsed Time: 00:00 | Remaining Time: ?"
      ]
     },
     "metadata": {},
     "output_type": "display_data"
    },
    {
     "name": "stdout",
     "output_type": "stream",
     "text": [
      "Launching job: heilbronn_temperature_1_offline_fg_materialization\n",
      "Job started successfully, you can follow the progress at \n",
      "https://snurran.hops.works/p/16503/jobs/named/heilbronn_temperature_1_offline_fg_materialization/executions\n"
     ]
    },
    {
     "data": {
      "text/plain": [
       "(<hsfs.core.job.Job at 0x7f983e50aa40>, None)"
      ]
     },
     "execution_count": 6,
     "metadata": {},
     "output_type": "execute_result"
    }
   ],
   "source": [
    "fg = fs.get_or_create_feature_group(name=\"heilbronn_temperature\", \n",
    "                                    version=1, \n",
    "                                    description=\"Temperature readings at Heibronn\",\n",
    "                                    primary_key=[\"id\",\"timestamp\"], \n",
    "                                    event_time=\"timestamp\",\n",
    "                                   )\n",
    "fg.insert(df2)"
   ]
  },
  {
   "cell_type": "code",
   "execution_count": 7,
   "id": "0212404a",
   "metadata": {},
   "outputs": [
    {
     "name": "stdout",
     "output_type": "stream",
     "text": [
      "2024-08-15 13:11:07,596 WARNING: FutureWarning: The argument 'infer_datetime_format' is deprecated and will be removed in a future version. A strict version of it is now the default, see https://pandas.pydata.org/pdeps/0004-consistent-to-datetime-parsing.html. You can safely remove this argument.\n",
      "\n"
     ]
    },
    {
     "data": {
      "text/html": [
       "<div>\n",
       "<style scoped>\n",
       "    .dataframe tbody tr th:only-of-type {\n",
       "        vertical-align: middle;\n",
       "    }\n",
       "\n",
       "    .dataframe tbody tr th {\n",
       "        vertical-align: top;\n",
       "    }\n",
       "\n",
       "    .dataframe thead th {\n",
       "        text-align: right;\n",
       "    }\n",
       "</style>\n",
       "<table border=\"1\" class=\"dataframe\">\n",
       "  <thead>\n",
       "    <tr style=\"text-align: right;\">\n",
       "      <th></th>\n",
       "      <th>Timestamp</th>\n",
       "      <th>fillLevel</th>\n",
       "      <th>id</th>\n",
       "    </tr>\n",
       "  </thead>\n",
       "  <tbody>\n",
       "    <tr>\n",
       "      <th>0</th>\n",
       "      <td>2024-06-04 15:01:22</td>\n",
       "      <td>46</td>\n",
       "      <td>Heilbronn</td>\n",
       "    </tr>\n",
       "    <tr>\n",
       "      <th>1</th>\n",
       "      <td>2024-06-04 16:01:38</td>\n",
       "      <td>46</td>\n",
       "      <td>Heilbronn</td>\n",
       "    </tr>\n",
       "    <tr>\n",
       "      <th>2</th>\n",
       "      <td>2024-06-04 17:01:54</td>\n",
       "      <td>100</td>\n",
       "      <td>Heilbronn</td>\n",
       "    </tr>\n",
       "    <tr>\n",
       "      <th>3</th>\n",
       "      <td>2024-06-04 18:02:10</td>\n",
       "      <td>63</td>\n",
       "      <td>Heilbronn</td>\n",
       "    </tr>\n",
       "    <tr>\n",
       "      <th>4</th>\n",
       "      <td>2024-06-04 19:02:26</td>\n",
       "      <td>56</td>\n",
       "      <td>Heilbronn</td>\n",
       "    </tr>\n",
       "    <tr>\n",
       "      <th>...</th>\n",
       "      <td>...</td>\n",
       "      <td>...</td>\n",
       "      <td>...</td>\n",
       "    </tr>\n",
       "    <tr>\n",
       "      <th>1810</th>\n",
       "      <td>2024-08-13 09:01:22</td>\n",
       "      <td>0</td>\n",
       "      <td>Heilbronn</td>\n",
       "    </tr>\n",
       "    <tr>\n",
       "      <th>1811</th>\n",
       "      <td>2024-08-13 10:01:38</td>\n",
       "      <td>0</td>\n",
       "      <td>Heilbronn</td>\n",
       "    </tr>\n",
       "    <tr>\n",
       "      <th>1812</th>\n",
       "      <td>2024-08-13 11:01:56</td>\n",
       "      <td>0</td>\n",
       "      <td>Heilbronn</td>\n",
       "    </tr>\n",
       "    <tr>\n",
       "      <th>1813</th>\n",
       "      <td>2024-08-13 12:00:16</td>\n",
       "      <td>0</td>\n",
       "      <td>Heilbronn</td>\n",
       "    </tr>\n",
       "    <tr>\n",
       "      <th>1814</th>\n",
       "      <td>2024-08-13 12:00:32</td>\n",
       "      <td>0</td>\n",
       "      <td>Heilbronn</td>\n",
       "    </tr>\n",
       "  </tbody>\n",
       "</table>\n",
       "<p>1815 rows × 3 columns</p>\n",
       "</div>"
      ],
      "text/plain": [
       "               Timestamp  fillLevel         id\n",
       "0    2024-06-04 15:01:22         46  Heilbronn\n",
       "1    2024-06-04 16:01:38         46  Heilbronn\n",
       "2    2024-06-04 17:01:54        100  Heilbronn\n",
       "3    2024-06-04 18:02:10         63  Heilbronn\n",
       "4    2024-06-04 19:02:26         56  Heilbronn\n",
       "...                  ...        ...        ...\n",
       "1810 2024-08-13 09:01:22          0  Heilbronn\n",
       "1811 2024-08-13 10:01:38          0  Heilbronn\n",
       "1812 2024-08-13 11:01:56          0  Heilbronn\n",
       "1813 2024-08-13 12:00:16          0  Heilbronn\n",
       "1814 2024-08-13 12:00:32          0  Heilbronn\n",
       "\n",
       "[1815 rows x 3 columns]"
      ]
     },
     "execution_count": 7,
     "metadata": {},
     "output_type": "execute_result"
    }
   ],
   "source": [
    "df3= pd.read_csv(\"../data/waste_bin_filling_level_history.csv\", sep=\";\", parse_dates=[\"Timestamp\"], infer_datetime_format=True)\n",
    "df3['id']=\"Heilbronn\"\n",
    "df3"
   ]
  },
  {
   "cell_type": "code",
   "execution_count": 8,
   "id": "d6f31034",
   "metadata": {},
   "outputs": [
    {
     "name": "stdout",
     "output_type": "stream",
     "text": [
      "2024-08-15 13:11:07,628 WARNING: FeatureGroupWarning: The ingested dataframe contains upper case letters in feature names: `['Timestamp', 'fillLevel']`. Feature names are sanitized to lower case in the feature store.\n",
      "\n",
      "Feature Group created successfully, explore it at \n",
      "https://snurran.hops.works/p/16503/fs/16451/fg/17429\n"
     ]
    },
    {
     "data": {
      "application/vnd.jupyter.widget-view+json": {
       "model_id": "1bde58a6e9404bd28a03133116868b44",
       "version_major": 2,
       "version_minor": 0
      },
      "text/plain": [
       "Uploading Dataframe: 0.00% |          | Rows 0/1815 | Elapsed Time: 00:00 | Remaining Time: ?"
      ]
     },
     "metadata": {},
     "output_type": "display_data"
    },
    {
     "name": "stdout",
     "output_type": "stream",
     "text": [
      "Launching job: waste_bin_filling_level_1_offline_fg_materialization\n",
      "Job started successfully, you can follow the progress at \n",
      "https://snurran.hops.works/p/16503/jobs/named/waste_bin_filling_level_1_offline_fg_materialization/executions\n"
     ]
    },
    {
     "data": {
      "text/plain": [
       "(<hsfs.core.job.Job at 0x7f98f4124520>, None)"
      ]
     },
     "execution_count": 8,
     "metadata": {},
     "output_type": "execute_result"
    }
   ],
   "source": [
    "fg = fs.get_or_create_feature_group(name=\"waste_bin_filling_level\", \n",
    "                                    version=1, \n",
    "                                    description=\"Waste bin filling levelat Heibronn\",\n",
    "                                    primary_key=[\"id\", \"timestamp\"], \n",
    "                                    event_time=\"timestamp\",\n",
    "                                   )\n",
    "fg.insert(df3)"
   ]
  }
 ],
 "metadata": {
  "kernelspec": {
   "display_name": "Python 3 (ipykernel)",
   "language": "python",
   "name": "python3"
  },
  "language_info": {
   "codemirror_mode": {
    "name": "ipython",
    "version": 3
   },
   "file_extension": ".py",
   "mimetype": "text/x-python",
   "name": "python",
   "nbconvert_exporter": "python",
   "pygments_lexer": "ipython3",
   "version": "3.10.0"
  }
 },
 "nbformat": 4,
 "nbformat_minor": 5
}
