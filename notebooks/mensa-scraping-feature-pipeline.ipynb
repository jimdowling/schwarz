{
 "cells": [
  {
   "cell_type": "code",
   "execution_count": 8,
   "id": "17143aa7",
   "metadata": {},
   "outputs": [
    {
     "name": "stdout",
     "output_type": "stream",
     "text": [
      "Connected. Call `.close()` to terminate connection gracefully.\n",
      "      location_name             location_ts out_count            out_count_ts  \\\n",
      "0  Mensa Gebäude U8 2024-08-16 11:25:39.300       242 2024-08-16 11:25:38.791   \n",
      "\n",
      "  occupancy            occupancy_ts occupancy_relative  \\\n",
      "0        51 2024-08-16 11:25:38.791              0.102   \n",
      "\n",
      "    occupancy_relative_ts in_count             in_count_ts capacity  \\\n",
      "0 2024-08-16 11:25:38.791      293 2024-08-16 11:25:38.791      500   \n",
      "\n",
      "              capacity_ts  \n",
      "0 2024-08-16 11:25:38.791  \n"
     ]
    }
   ],
   "source": [
    "import requests\n",
    "import pandas as pd\n",
    "import hopsworks\n",
    "\n",
    "conn = hopsworks.connection()\n",
    "HEILBONN_API_KEY = conn.get_secrets_api().get_secret(\"HEILBONN_API_KEY\").value\n",
    "    \n",
    "# Define the API URL and API key\n",
    "url = \"https://34.149.159.161.nip.io/bildungscampus/iotplatform/mensaoccupancy/v1/authGroup/mensa_occupancy_devices/entityId?page=0\"\n",
    "\n",
    "# Set up headers with API key\n",
    "headers = {\n",
    "    'x-apikey': HEILBONN_API_KEY\n",
    "}\n",
    "\n",
    "# Send GET request to the API\n",
    "response = requests.get(url, headers=headers)\n",
    "\n",
    "# Check if the request was successful\n",
    "if response.status_code == 200:\n",
    "    data = response.json()\n",
    "    \n",
    "    # Initialize lists to store data\n",
    "    location_names = []\n",
    "    location_ts = []\n",
    "    out_counts = []\n",
    "    out_count_ts = []\n",
    "    occupancies = []\n",
    "    occupancy_ts = []\n",
    "    occupancy_relatives = []\n",
    "    occupancy_relative_ts = []\n",
    "    in_counts = []\n",
    "    in_count_ts = []\n",
    "    capacities = []\n",
    "    capacity_ts = []\n",
    "\n",
    "    # Extract the necessary fields from the JSON response\n",
    "    for entity in data['entities']:\n",
    "        location_names.append(entity['SERVER_ATTRIBUTE']['locationName']['value'])\n",
    "        location_ts.append(entity['SERVER_ATTRIBUTE']['locationName']['ts'])\n",
    "        \n",
    "        out_counts.append(entity['TIME_SERIES']['outCount']['value'])\n",
    "        out_count_ts.append(entity['TIME_SERIES']['outCount']['ts'])\n",
    "        \n",
    "        occupancies.append(entity['TIME_SERIES']['occupancy']['value'])\n",
    "        occupancy_ts.append(entity['TIME_SERIES']['occupancy']['ts'])\n",
    "        \n",
    "        occupancy_relatives.append(entity['TIME_SERIES']['occupancyRelative']['value'])\n",
    "        occupancy_relative_ts.append(entity['TIME_SERIES']['occupancyRelative']['ts'])\n",
    "        \n",
    "        in_counts.append(entity['TIME_SERIES']['inCount']['value'])\n",
    "        in_count_ts.append(entity['TIME_SERIES']['inCount']['ts'])\n",
    "        \n",
    "        capacities.append(entity['TIME_SERIES']['capacity']['value'])\n",
    "        capacity_ts.append(entity['TIME_SERIES']['capacity']['ts'])\n",
    "\n",
    "    # Create a DataFrame from the lists\n",
    "    df = pd.DataFrame({\n",
    "        'location_name': location_names,\n",
    "        'location_ts': location_ts,\n",
    "        'out_count': out_counts,\n",
    "        'out_count_ts': out_count_ts,\n",
    "        'occupancy': occupancies,\n",
    "        'occupancy_ts': occupancy_ts,\n",
    "        'occupancy_relative': occupancy_relatives,\n",
    "        'occupancy_relative_ts': occupancy_relative_ts,\n",
    "        'in_count': in_counts,\n",
    "        'in_count_ts': in_count_ts,\n",
    "        'capacity': capacities,\n",
    "        'capacity_ts': capacity_ts\n",
    "    })\n",
    "\n",
    "    # Convert UNIX timestamps to pandas datetime\n",
    "    df['location_ts'] = pd.to_datetime(df['location_ts'], unit='ms')\n",
    "    df['out_count_ts'] = pd.to_datetime(df['out_count_ts'], unit='ms')\n",
    "    df['occupancy_ts'] = pd.to_datetime(df['occupancy_ts'], unit='ms')\n",
    "    df['occupancy_relative_ts'] = pd.to_datetime(df['occupancy_relative_ts'], unit='ms')\n",
    "    df['in_count_ts'] = pd.to_datetime(df['in_count_ts'], unit='ms')\n",
    "    df['capacity_ts'] = pd.to_datetime(df['capacity_ts'], unit='ms')\n",
    "\n",
    "    print(df)\n",
    "else:\n",
    "    print(f\"Failed to retrieve data: {response.status_code} - {response.text}\")\n"
   ]
  },
  {
   "cell_type": "code",
   "execution_count": 6,
   "id": "907c3d9c",
   "metadata": {},
   "outputs": [
    {
     "name": "stdout",
     "output_type": "stream",
     "text": [
      "Connected. Call `.close()` to terminate connection gracefully.\n",
      "\n",
      "Logged in to project, explore it here https://snurran.hops.works/p/16503\n",
      "Connected. Call `.close()` to terminate connection gracefully.\n"
     ]
    }
   ],
   "source": [
    "import hopsworks\n",
    "fs = hopsworks.login().get_feature_store()"
   ]
  },
  {
   "cell_type": "code",
   "execution_count": 7,
   "id": "00b20b92",
   "metadata": {},
   "outputs": [],
   "source": [
    "fg = fs.get_or_create_feature_group(name=\"mensa_live\",\n",
    "                                    version=1, \n",
    "                                    primary_key=['location_name', 'location_ts'], \n",
    "                                    event_time=\"occupancy_ts\",\n",
    "                                    online_enabled=True)"
   ]
  },
  {
   "cell_type": "code",
   "execution_count": 8,
   "id": "22383e7f",
   "metadata": {},
   "outputs": [
    {
     "name": "stdout",
     "output_type": "stream",
     "text": [
      "Feature Group created successfully, explore it at \n",
      "https://snurran.hops.works/p/16503/fs/16451/fg/17430\n"
     ]
    },
    {
     "data": {
      "application/vnd.jupyter.widget-view+json": {
       "model_id": "8496c81bbc38430f85d8c638debad03b",
       "version_major": 2,
       "version_minor": 0
      },
      "text/plain": [
       "Uploading Dataframe: 0.00% |          | Rows 0/1 | Elapsed Time: 00:00 | Remaining Time: ?"
      ]
     },
     "metadata": {},
     "output_type": "display_data"
    },
    {
     "name": "stdout",
     "output_type": "stream",
     "text": [
      "Launching job: mensa_live_1_offline_fg_materialization\n",
      "Job started successfully, you can follow the progress at \n",
      "https://snurran.hops.works/p/16503/jobs/named/mensa_live_1_offline_fg_materialization/executions\n"
     ]
    },
    {
     "data": {
      "text/plain": [
       "(<hsfs.core.job.Job at 0x7fba4fd43ac0>, None)"
      ]
     },
     "execution_count": 8,
     "metadata": {},
     "output_type": "execute_result"
    }
   ],
   "source": [
    "fg.insert(df)"
   ]
  },
  {
   "cell_type": "code",
   "execution_count": null,
   "id": "43f5ed03",
   "metadata": {},
   "outputs": [],
   "source": []
  }
 ],
 "metadata": {
  "kernelspec": {
   "display_name": "Python 3",
   "language": "python",
   "name": "python3"
  },
  "language_info": {
   "codemirror_mode": {
    "name": "ipython",
    "version": 3
   },
   "file_extension": ".py",
   "mimetype": "text/x-python",
   "name": "python",
   "nbconvert_exporter": "python",
   "pygments_lexer": "ipython3",
   "version": "3.10.11"
  }
 },
 "nbformat": 4,
 "nbformat_minor": 5
}
